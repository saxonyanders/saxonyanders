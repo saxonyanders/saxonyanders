{
  "cells": [
    {
      "cell_type": "markdown",
      "metadata": {
        "id": "jf42VTJpRlHh"
      },
      "source": [
        "# Visualization Tutorial"
      ]
    },
    {
      "cell_type": "markdown",
      "metadata": {
        "id": "l05wO0IgRlHi"
      },
      "source": [
        "*This version of the visualisation tutorial is updated for Mesa 3.1, and works with Mesa `3.1.0` and above.*\n",
        "\n",
        "**Important:**\n",
        "- If you are just exploring Mesa and want the fastest way to the the dashboard and code checkout [![py.cafe](https://img.shields.io/badge/launch-py.cafe-blue)](https://py.cafe/app/tpike3/boltzmann-wealth-model) (click \"Editor\" to see the code)\n",
        "- If you want to see the dashboard in an interactive notebook try [![Binder](https://mybinder.org/badge_logo.svg)](https://mybinder.org/v2/gh/projectmesa/mesa/main?labpath=docs%2Ftutorials%2Fvisualization_tutorial.ipynb)\n",
        "- If you have installed mesa and are running locally, please ensure that your [Mesa version](https://pypi.org/project/Mesa/) is up-to-date in order to run this tutorial.\n",
        "\n",
        "### Adding visualization\n",
        "\n",
        "So far, we've built a model, run it, and analyzed some output afterwards. However, one of the advantages of agent-based models is that we can often watch them run step by step, potentially spotting unexpected patterns, behaviors or bugs, or developing new intuitions, hypotheses, or insights. Other times, watching a model run can explain it to an unfamiliar audience better than static explanations. Like many ABM frameworks, Mesa allows you to create an interactive visualization of the model. In this section we'll walk through creating a visualization using built-in components, and (for advanced users) how to create a new visualization element.\n",
        "\n",
        "First, a quick explanation of how Mesa's interactive visualization works. The visualization is done in a browser window, using the [Solara](https://solara.dev/) framework, a pure Python, React-style web framework. Running `solara run app.py` will launch a web server, which runs the model, and displays model detail at each step via the Matplotlib plotting library. Alternatively, you can execute everything inside a notebook environment and display it inline."
      ]
    },
    {
      "cell_type": "markdown",
      "metadata": {
        "id": "msxY57ofRlHj"
      },
      "source": [
        "#### Grid Visualization\n",
        "\n",
        "To start with, let's have a visualization where we can watch the agents moving around the grid. Let us use the same `MoneyModel` created in the [Introductory Tutorial](https://mesa.readthedocs.io/stable/tutorials/intro_tutorial.html).\n"
      ]
    },
    {
      "cell_type": "markdown",
      "metadata": {
        "id": "guilm5AvRlHk"
      },
      "source": [
        "Mesa's grid visualizer works by looping over every cell in a grid, and generating a portrayal for every agent it finds. A portrayal is a dictionary (which can easily be turned into a JSON object) which tells Matplotlib the color and size of the scatterplot markers (each signifying an agent). The only thing we need to provide is a function which takes an agent, and returns a portrayal dictionary. Here's the simplest one: it'll draw each agent as a blue, filled circle, with a radius size of 50."
      ]
    },
    {
      "cell_type": "markdown",
      "metadata": {
        "id": "cz3dlUzQRlHk"
      },
      "source": [
        "## Part 1 - Basic Dashboard\n",
        "\n",
        "**Note:**  Due to the computational cost of running multiple dashboards it is recommended that at the end of each part you restart your kernel and then only run the the cells in that portion of the tutorial (e.g. Part 1). Each portion is entirely self contained."
      ]
    },
    {
      "cell_type": "code",
      "source": [
        "!pip install --quiet --upgrade mesa"
      ],
      "metadata": {
        "id": "m33ip68JRtMe",
        "outputId": "50e73b29-3401-4b37-f520-65a8da3e67d4",
        "colab": {
          "base_uri": "https://localhost:8080/"
        }
      },
      "execution_count": 2,
      "outputs": [
        {
          "output_type": "stream",
          "name": "stdout",
          "text": [
            "\u001b[?25l   \u001b[90m━━━━━━━━━━━━━━━━━━━━━━━━━━━━━━━━━━━━━━━━\u001b[0m \u001b[32m0.0/177.7 kB\u001b[0m \u001b[31m?\u001b[0m eta \u001b[36m-:--:--\u001b[0m\r\u001b[2K   \u001b[91m━━━━━━━━━━━━━━━━\u001b[0m\u001b[90m╺\u001b[0m\u001b[90m━━━━━━━━━━━━━━━━━━━━━━━\u001b[0m \u001b[32m71.7/177.7 kB\u001b[0m \u001b[31m3.1 MB/s\u001b[0m eta \u001b[36m0:00:01\u001b[0m\r\u001b[2K   \u001b[90m━━━━━━━━━━━━━━━━━━━━━━━━━━━━━━━━━━━━━━━━\u001b[0m \u001b[32m177.7/177.7 kB\u001b[0m \u001b[31m2.5 MB/s\u001b[0m eta \u001b[36m0:00:00\u001b[0m\n",
            "\u001b[?25h"
          ]
        }
      ]
    },
    {
      "cell_type": "code",
      "source": [
        "!pip install solara"
      ],
      "metadata": {
        "collapsed": true,
        "id": "KMU0WfkARwp7",
        "outputId": "1ab46706-f7f0-432c-d949-6f591c6570e0",
        "colab": {
          "base_uri": "https://localhost:8080/"
        }
      },
      "execution_count": 3,
      "outputs": [
        {
          "output_type": "stream",
          "name": "stdout",
          "text": [
            "Collecting solara\n",
            "  Downloading solara-1.44.1-py2.py3-none-any.whl.metadata (10 kB)\n",
            "Collecting solara-server==1.44.1 (from solara-server[dev,starlette]==1.44.1->solara)\n",
            "  Downloading solara_server-1.44.1-py2.py3-none-any.whl.metadata (2.9 kB)\n",
            "Collecting solara-ui==1.44.1 (from solara-ui[all]==1.44.1->solara)\n",
            "  Downloading solara_ui-1.44.1-py2.py3-none-any.whl.metadata (7.4 kB)\n",
            "Requirement already satisfied: click>=7.1.0 in /usr/local/lib/python3.11/dist-packages (from solara-server==1.44.1->solara-server[dev,starlette]==1.44.1->solara) (8.1.8)\n",
            "Requirement already satisfied: filelock in /usr/local/lib/python3.11/dist-packages (from solara-server==1.44.1->solara-server[dev,starlette]==1.44.1->solara) (3.17.0)\n",
            "Requirement already satisfied: ipykernel in /usr/local/lib/python3.11/dist-packages (from solara-server==1.44.1->solara-server[dev,starlette]==1.44.1->solara) (6.17.1)\n",
            "Requirement already satisfied: jinja2 in /usr/local/lib/python3.11/dist-packages (from solara-server==1.44.1->solara-server[dev,starlette]==1.44.1->solara) (3.1.5)\n",
            "Requirement already satisfied: jupyter-client in /usr/local/lib/python3.11/dist-packages (from solara-server==1.44.1->solara-server[dev,starlette]==1.44.1->solara) (6.1.12)\n",
            "Requirement already satisfied: nbformat in /usr/local/lib/python3.11/dist-packages (from solara-server==1.44.1->solara-server[dev,starlette]==1.44.1->solara) (5.10.4)\n",
            "Collecting rich-click (from solara-server==1.44.1->solara-server[dev,starlette]==1.44.1->solara)\n",
            "  Downloading rich_click-1.8.6-py3-none-any.whl.metadata (7.9 kB)\n",
            "Collecting watchdog (from solara-server[dev,starlette]==1.44.1->solara)\n",
            "  Downloading watchdog-6.0.0-py3-none-manylinux2014_x86_64.whl.metadata (44 kB)\n",
            "\u001b[2K     \u001b[90m━━━━━━━━━━━━━━━━━━━━━━━━━━━━━━━━━━━━━━━━\u001b[0m \u001b[32m44.3/44.3 kB\u001b[0m \u001b[31m1.7 MB/s\u001b[0m eta \u001b[36m0:00:00\u001b[0m\n",
            "\u001b[?25hCollecting watchfiles (from solara-server[dev,starlette]==1.44.1->solara)\n",
            "  Downloading watchfiles-1.0.4-cp311-cp311-manylinux_2_17_x86_64.manylinux2014_x86_64.whl.metadata (4.9 kB)\n",
            "Collecting starlette (from solara-server[dev,starlette]==1.44.1->solara)\n",
            "  Downloading starlette-0.46.0-py3-none-any.whl.metadata (6.2 kB)\n",
            "Collecting uvicorn (from solara-server[dev,starlette]==1.44.1->solara)\n",
            "  Downloading uvicorn-0.34.0-py3-none-any.whl.metadata (6.5 kB)\n",
            "Requirement already satisfied: websockets in /usr/local/lib/python3.11/dist-packages (from solara-server[dev,starlette]==1.44.1->solara) (14.2)\n",
            "Requirement already satisfied: humanize in /usr/local/lib/python3.11/dist-packages (from solara-ui==1.44.1->solara-ui[all]==1.44.1->solara) (4.11.0)\n",
            "Collecting ipyvue>=1.9.0 (from solara-ui==1.44.1->solara-ui[all]==1.44.1->solara)\n",
            "  Downloading ipyvue-1.11.2-py2.py3-none-any.whl.metadata (1.1 kB)\n",
            "Collecting ipyvuetify>=1.6.10 (from solara-ui==1.44.1->solara-ui[all]==1.44.1->solara)\n",
            "  Downloading ipyvuetify-1.11.0-py2.py3-none-any.whl.metadata (7.5 kB)\n",
            "Requirement already satisfied: ipywidgets>=7.7 in /usr/local/lib/python3.11/dist-packages (from solara-ui==1.44.1->solara-ui[all]==1.44.1->solara) (7.7.1)\n",
            "Collecting reacton>=1.9 (from solara-ui==1.44.1->solara-ui[all]==1.44.1->solara)\n",
            "  Downloading reacton-1.9.1-py2.py3-none-any.whl.metadata (3.1 kB)\n",
            "Requirement already satisfied: requests in /usr/local/lib/python3.11/dist-packages (from solara-ui==1.44.1->solara-ui[all]==1.44.1->solara) (2.32.3)\n",
            "Requirement already satisfied: cachetools in /usr/local/lib/python3.11/dist-packages (from solara-ui[all]==1.44.1->solara) (5.5.1)\n",
            "Requirement already satisfied: markdown in /usr/local/lib/python3.11/dist-packages (from solara-ui[all]==1.44.1->solara) (3.7)\n",
            "Requirement already satisfied: numpy in /usr/local/lib/python3.11/dist-packages (from solara-ui[all]==1.44.1->solara) (1.26.4)\n",
            "Requirement already satisfied: pillow in /usr/local/lib/python3.11/dist-packages (from solara-ui[all]==1.44.1->solara) (11.1.0)\n",
            "Requirement already satisfied: pygments in /usr/local/lib/python3.11/dist-packages (from solara-ui[all]==1.44.1->solara) (2.18.0)\n",
            "Collecting pymdown-extensions (from solara-ui[all]==1.44.1->solara)\n",
            "  Downloading pymdown_extensions-10.14.3-py3-none-any.whl.metadata (3.0 kB)\n",
            "Requirement already satisfied: ipython-genutils~=0.2.0 in /usr/local/lib/python3.11/dist-packages (from ipywidgets>=7.7->solara-ui==1.44.1->solara-ui[all]==1.44.1->solara) (0.2.0)\n",
            "Requirement already satisfied: traitlets>=4.3.1 in /usr/local/lib/python3.11/dist-packages (from ipywidgets>=7.7->solara-ui==1.44.1->solara-ui[all]==1.44.1->solara) (5.7.1)\n",
            "Requirement already satisfied: widgetsnbextension~=3.6.0 in /usr/local/lib/python3.11/dist-packages (from ipywidgets>=7.7->solara-ui==1.44.1->solara-ui[all]==1.44.1->solara) (3.6.10)\n",
            "Requirement already satisfied: ipython>=4.0.0 in /usr/local/lib/python3.11/dist-packages (from ipywidgets>=7.7->solara-ui==1.44.1->solara-ui[all]==1.44.1->solara) (7.34.0)\n",
            "Requirement already satisfied: jupyterlab-widgets>=1.0.0 in /usr/local/lib/python3.11/dist-packages (from ipywidgets>=7.7->solara-ui==1.44.1->solara-ui[all]==1.44.1->solara) (3.0.13)\n",
            "Requirement already satisfied: debugpy>=1.0 in /usr/local/lib/python3.11/dist-packages (from ipykernel->solara-server==1.44.1->solara-server[dev,starlette]==1.44.1->solara) (1.8.0)\n",
            "Requirement already satisfied: matplotlib-inline>=0.1 in /usr/local/lib/python3.11/dist-packages (from ipykernel->solara-server==1.44.1->solara-server[dev,starlette]==1.44.1->solara) (0.1.7)\n",
            "Requirement already satisfied: nest-asyncio in /usr/local/lib/python3.11/dist-packages (from ipykernel->solara-server==1.44.1->solara-server[dev,starlette]==1.44.1->solara) (1.6.0)\n",
            "Requirement already satisfied: packaging in /usr/local/lib/python3.11/dist-packages (from ipykernel->solara-server==1.44.1->solara-server[dev,starlette]==1.44.1->solara) (24.2)\n",
            "Requirement already satisfied: psutil in /usr/local/lib/python3.11/dist-packages (from ipykernel->solara-server==1.44.1->solara-server[dev,starlette]==1.44.1->solara) (5.9.5)\n",
            "Requirement already satisfied: pyzmq>=17 in /usr/local/lib/python3.11/dist-packages (from ipykernel->solara-server==1.44.1->solara-server[dev,starlette]==1.44.1->solara) (24.0.1)\n",
            "Requirement already satisfied: tornado>=6.1 in /usr/local/lib/python3.11/dist-packages (from ipykernel->solara-server==1.44.1->solara-server[dev,starlette]==1.44.1->solara) (6.4.2)\n",
            "Requirement already satisfied: jupyter-core>=4.6.0 in /usr/local/lib/python3.11/dist-packages (from jupyter-client->solara-server==1.44.1->solara-server[dev,starlette]==1.44.1->solara) (5.7.2)\n",
            "Requirement already satisfied: python-dateutil>=2.1 in /usr/local/lib/python3.11/dist-packages (from jupyter-client->solara-server==1.44.1->solara-server[dev,starlette]==1.44.1->solara) (2.8.2)\n",
            "Requirement already satisfied: typing-extensions>=4.1.1 in /usr/local/lib/python3.11/dist-packages (from reacton>=1.9->solara-ui==1.44.1->solara-ui[all]==1.44.1->solara) (4.12.2)\n",
            "Requirement already satisfied: MarkupSafe>=2.0 in /usr/local/lib/python3.11/dist-packages (from jinja2->solara-server==1.44.1->solara-server[dev,starlette]==1.44.1->solara) (3.0.2)\n",
            "Requirement already satisfied: fastjsonschema>=2.15 in /usr/local/lib/python3.11/dist-packages (from nbformat->solara-server==1.44.1->solara-server[dev,starlette]==1.44.1->solara) (2.21.1)\n",
            "Requirement already satisfied: jsonschema>=2.6 in /usr/local/lib/python3.11/dist-packages (from nbformat->solara-server==1.44.1->solara-server[dev,starlette]==1.44.1->solara) (4.23.0)\n",
            "Requirement already satisfied: pyyaml in /usr/local/lib/python3.11/dist-packages (from pymdown-extensions->solara-ui[all]==1.44.1->solara) (6.0.2)\n",
            "Requirement already satisfied: charset-normalizer<4,>=2 in /usr/local/lib/python3.11/dist-packages (from requests->solara-ui==1.44.1->solara-ui[all]==1.44.1->solara) (3.4.1)\n",
            "Requirement already satisfied: idna<4,>=2.5 in /usr/local/lib/python3.11/dist-packages (from requests->solara-ui==1.44.1->solara-ui[all]==1.44.1->solara) (3.10)\n",
            "Requirement already satisfied: urllib3<3,>=1.21.1 in /usr/local/lib/python3.11/dist-packages (from requests->solara-ui==1.44.1->solara-ui[all]==1.44.1->solara) (2.3.0)\n",
            "Requirement already satisfied: certifi>=2017.4.17 in /usr/local/lib/python3.11/dist-packages (from requests->solara-ui==1.44.1->solara-ui[all]==1.44.1->solara) (2025.1.31)\n",
            "Requirement already satisfied: rich>=10.7 in /usr/local/lib/python3.11/dist-packages (from rich-click->solara-server==1.44.1->solara-server[dev,starlette]==1.44.1->solara) (13.9.4)\n",
            "Requirement already satisfied: anyio<5,>=3.6.2 in /usr/local/lib/python3.11/dist-packages (from starlette->solara-server[dev,starlette]==1.44.1->solara) (3.7.1)\n",
            "Requirement already satisfied: h11>=0.8 in /usr/local/lib/python3.11/dist-packages (from uvicorn->solara-server[dev,starlette]==1.44.1->solara) (0.14.0)\n",
            "Requirement already satisfied: sniffio>=1.1 in /usr/local/lib/python3.11/dist-packages (from anyio<5,>=3.6.2->starlette->solara-server[dev,starlette]==1.44.1->solara) (1.3.1)\n",
            "Requirement already satisfied: setuptools>=18.5 in /usr/local/lib/python3.11/dist-packages (from ipython>=4.0.0->ipywidgets>=7.7->solara-ui==1.44.1->solara-ui[all]==1.44.1->solara) (75.1.0)\n",
            "Collecting jedi>=0.16 (from ipython>=4.0.0->ipywidgets>=7.7->solara-ui==1.44.1->solara-ui[all]==1.44.1->solara)\n",
            "  Downloading jedi-0.19.2-py2.py3-none-any.whl.metadata (22 kB)\n",
            "Requirement already satisfied: decorator in /usr/local/lib/python3.11/dist-packages (from ipython>=4.0.0->ipywidgets>=7.7->solara-ui==1.44.1->solara-ui[all]==1.44.1->solara) (4.4.2)\n",
            "Requirement already satisfied: pickleshare in /usr/local/lib/python3.11/dist-packages (from ipython>=4.0.0->ipywidgets>=7.7->solara-ui==1.44.1->solara-ui[all]==1.44.1->solara) (0.7.5)\n",
            "Requirement already satisfied: prompt-toolkit!=3.0.0,!=3.0.1,<3.1.0,>=2.0.0 in /usr/local/lib/python3.11/dist-packages (from ipython>=4.0.0->ipywidgets>=7.7->solara-ui==1.44.1->solara-ui[all]==1.44.1->solara) (3.0.50)\n",
            "Requirement already satisfied: backcall in /usr/local/lib/python3.11/dist-packages (from ipython>=4.0.0->ipywidgets>=7.7->solara-ui==1.44.1->solara-ui[all]==1.44.1->solara) (0.2.0)\n",
            "Requirement already satisfied: pexpect>4.3 in /usr/local/lib/python3.11/dist-packages (from ipython>=4.0.0->ipywidgets>=7.7->solara-ui==1.44.1->solara-ui[all]==1.44.1->solara) (4.9.0)\n",
            "Requirement already satisfied: attrs>=22.2.0 in /usr/local/lib/python3.11/dist-packages (from jsonschema>=2.6->nbformat->solara-server==1.44.1->solara-server[dev,starlette]==1.44.1->solara) (25.1.0)\n",
            "Requirement already satisfied: jsonschema-specifications>=2023.03.6 in /usr/local/lib/python3.11/dist-packages (from jsonschema>=2.6->nbformat->solara-server==1.44.1->solara-server[dev,starlette]==1.44.1->solara) (2024.10.1)\n",
            "Requirement already satisfied: referencing>=0.28.4 in /usr/local/lib/python3.11/dist-packages (from jsonschema>=2.6->nbformat->solara-server==1.44.1->solara-server[dev,starlette]==1.44.1->solara) (0.36.2)\n",
            "Requirement already satisfied: rpds-py>=0.7.1 in /usr/local/lib/python3.11/dist-packages (from jsonschema>=2.6->nbformat->solara-server==1.44.1->solara-server[dev,starlette]==1.44.1->solara) (0.22.3)\n",
            "Requirement already satisfied: platformdirs>=2.5 in /usr/local/lib/python3.11/dist-packages (from jupyter-core>=4.6.0->jupyter-client->solara-server==1.44.1->solara-server[dev,starlette]==1.44.1->solara) (4.3.6)\n",
            "Requirement already satisfied: six>=1.5 in /usr/local/lib/python3.11/dist-packages (from python-dateutil>=2.1->jupyter-client->solara-server==1.44.1->solara-server[dev,starlette]==1.44.1->solara) (1.17.0)\n",
            "Requirement already satisfied: markdown-it-py>=2.2.0 in /usr/local/lib/python3.11/dist-packages (from rich>=10.7->rich-click->solara-server==1.44.1->solara-server[dev,starlette]==1.44.1->solara) (3.0.0)\n",
            "Requirement already satisfied: notebook>=4.4.1 in /usr/local/lib/python3.11/dist-packages (from widgetsnbextension~=3.6.0->ipywidgets>=7.7->solara-ui==1.44.1->solara-ui[all]==1.44.1->solara) (6.5.5)\n",
            "Requirement already satisfied: parso<0.9.0,>=0.8.4 in /usr/local/lib/python3.11/dist-packages (from jedi>=0.16->ipython>=4.0.0->ipywidgets>=7.7->solara-ui==1.44.1->solara-ui[all]==1.44.1->solara) (0.8.4)\n",
            "Requirement already satisfied: mdurl~=0.1 in /usr/local/lib/python3.11/dist-packages (from markdown-it-py>=2.2.0->rich>=10.7->rich-click->solara-server==1.44.1->solara-server[dev,starlette]==1.44.1->solara) (0.1.2)\n",
            "Requirement already satisfied: argon2-cffi in /usr/local/lib/python3.11/dist-packages (from notebook>=4.4.1->widgetsnbextension~=3.6.0->ipywidgets>=7.7->solara-ui==1.44.1->solara-ui[all]==1.44.1->solara) (23.1.0)\n",
            "Requirement already satisfied: nbconvert>=5 in /usr/local/lib/python3.11/dist-packages (from notebook>=4.4.1->widgetsnbextension~=3.6.0->ipywidgets>=7.7->solara-ui==1.44.1->solara-ui[all]==1.44.1->solara) (7.16.6)\n",
            "Requirement already satisfied: Send2Trash>=1.8.0 in /usr/local/lib/python3.11/dist-packages (from notebook>=4.4.1->widgetsnbextension~=3.6.0->ipywidgets>=7.7->solara-ui==1.44.1->solara-ui[all]==1.44.1->solara) (1.8.3)\n",
            "Requirement already satisfied: terminado>=0.8.3 in /usr/local/lib/python3.11/dist-packages (from notebook>=4.4.1->widgetsnbextension~=3.6.0->ipywidgets>=7.7->solara-ui==1.44.1->solara-ui[all]==1.44.1->solara) (0.18.1)\n",
            "Requirement already satisfied: prometheus-client in /usr/local/lib/python3.11/dist-packages (from notebook>=4.4.1->widgetsnbextension~=3.6.0->ipywidgets>=7.7->solara-ui==1.44.1->solara-ui[all]==1.44.1->solara) (0.21.1)\n",
            "Requirement already satisfied: nbclassic>=0.4.7 in /usr/local/lib/python3.11/dist-packages (from notebook>=4.4.1->widgetsnbextension~=3.6.0->ipywidgets>=7.7->solara-ui==1.44.1->solara-ui[all]==1.44.1->solara) (1.2.0)\n",
            "Requirement already satisfied: ptyprocess>=0.5 in /usr/local/lib/python3.11/dist-packages (from pexpect>4.3->ipython>=4.0.0->ipywidgets>=7.7->solara-ui==1.44.1->solara-ui[all]==1.44.1->solara) (0.7.0)\n",
            "Requirement already satisfied: wcwidth in /usr/local/lib/python3.11/dist-packages (from prompt-toolkit!=3.0.0,!=3.0.1,<3.1.0,>=2.0.0->ipython>=4.0.0->ipywidgets>=7.7->solara-ui==1.44.1->solara-ui[all]==1.44.1->solara) (0.2.13)\n",
            "Requirement already satisfied: notebook-shim>=0.2.3 in /usr/local/lib/python3.11/dist-packages (from nbclassic>=0.4.7->notebook>=4.4.1->widgetsnbextension~=3.6.0->ipywidgets>=7.7->solara-ui==1.44.1->solara-ui[all]==1.44.1->solara) (0.2.4)\n",
            "Requirement already satisfied: beautifulsoup4 in /usr/local/lib/python3.11/dist-packages (from nbconvert>=5->notebook>=4.4.1->widgetsnbextension~=3.6.0->ipywidgets>=7.7->solara-ui==1.44.1->solara-ui[all]==1.44.1->solara) (4.13.3)\n",
            "Requirement already satisfied: bleach!=5.0.0 in /usr/local/lib/python3.11/dist-packages (from bleach[css]!=5.0.0->nbconvert>=5->notebook>=4.4.1->widgetsnbextension~=3.6.0->ipywidgets>=7.7->solara-ui==1.44.1->solara-ui[all]==1.44.1->solara) (6.2.0)\n",
            "Requirement already satisfied: defusedxml in /usr/local/lib/python3.11/dist-packages (from nbconvert>=5->notebook>=4.4.1->widgetsnbextension~=3.6.0->ipywidgets>=7.7->solara-ui==1.44.1->solara-ui[all]==1.44.1->solara) (0.7.1)\n",
            "Requirement already satisfied: jupyterlab-pygments in /usr/local/lib/python3.11/dist-packages (from nbconvert>=5->notebook>=4.4.1->widgetsnbextension~=3.6.0->ipywidgets>=7.7->solara-ui==1.44.1->solara-ui[all]==1.44.1->solara) (0.3.0)\n",
            "Requirement already satisfied: mistune<4,>=2.0.3 in /usr/local/lib/python3.11/dist-packages (from nbconvert>=5->notebook>=4.4.1->widgetsnbextension~=3.6.0->ipywidgets>=7.7->solara-ui==1.44.1->solara-ui[all]==1.44.1->solara) (3.1.2)\n",
            "Requirement already satisfied: nbclient>=0.5.0 in /usr/local/lib/python3.11/dist-packages (from nbconvert>=5->notebook>=4.4.1->widgetsnbextension~=3.6.0->ipywidgets>=7.7->solara-ui==1.44.1->solara-ui[all]==1.44.1->solara) (0.10.2)\n",
            "Requirement already satisfied: pandocfilters>=1.4.1 in /usr/local/lib/python3.11/dist-packages (from nbconvert>=5->notebook>=4.4.1->widgetsnbextension~=3.6.0->ipywidgets>=7.7->solara-ui==1.44.1->solara-ui[all]==1.44.1->solara) (1.5.1)\n",
            "Requirement already satisfied: argon2-cffi-bindings in /usr/local/lib/python3.11/dist-packages (from argon2-cffi->notebook>=4.4.1->widgetsnbextension~=3.6.0->ipywidgets>=7.7->solara-ui==1.44.1->solara-ui[all]==1.44.1->solara) (21.2.0)\n",
            "Requirement already satisfied: webencodings in /usr/local/lib/python3.11/dist-packages (from bleach!=5.0.0->bleach[css]!=5.0.0->nbconvert>=5->notebook>=4.4.1->widgetsnbextension~=3.6.0->ipywidgets>=7.7->solara-ui==1.44.1->solara-ui[all]==1.44.1->solara) (0.5.1)\n",
            "Requirement already satisfied: tinycss2<1.5,>=1.1.0 in /usr/local/lib/python3.11/dist-packages (from bleach[css]!=5.0.0->nbconvert>=5->notebook>=4.4.1->widgetsnbextension~=3.6.0->ipywidgets>=7.7->solara-ui==1.44.1->solara-ui[all]==1.44.1->solara) (1.4.0)\n",
            "Requirement already satisfied: jupyter-server<3,>=1.8 in /usr/local/lib/python3.11/dist-packages (from notebook-shim>=0.2.3->nbclassic>=0.4.7->notebook>=4.4.1->widgetsnbextension~=3.6.0->ipywidgets>=7.7->solara-ui==1.44.1->solara-ui[all]==1.44.1->solara) (1.24.0)\n",
            "Requirement already satisfied: cffi>=1.0.1 in /usr/local/lib/python3.11/dist-packages (from argon2-cffi-bindings->argon2-cffi->notebook>=4.4.1->widgetsnbextension~=3.6.0->ipywidgets>=7.7->solara-ui==1.44.1->solara-ui[all]==1.44.1->solara) (1.17.1)\n",
            "Requirement already satisfied: soupsieve>1.2 in /usr/local/lib/python3.11/dist-packages (from beautifulsoup4->nbconvert>=5->notebook>=4.4.1->widgetsnbextension~=3.6.0->ipywidgets>=7.7->solara-ui==1.44.1->solara-ui[all]==1.44.1->solara) (2.6)\n",
            "Requirement already satisfied: pycparser in /usr/local/lib/python3.11/dist-packages (from cffi>=1.0.1->argon2-cffi-bindings->argon2-cffi->notebook>=4.4.1->widgetsnbextension~=3.6.0->ipywidgets>=7.7->solara-ui==1.44.1->solara-ui[all]==1.44.1->solara) (2.22)\n",
            "Requirement already satisfied: websocket-client in /usr/local/lib/python3.11/dist-packages (from jupyter-server<3,>=1.8->notebook-shim>=0.2.3->nbclassic>=0.4.7->notebook>=4.4.1->widgetsnbextension~=3.6.0->ipywidgets>=7.7->solara-ui==1.44.1->solara-ui[all]==1.44.1->solara) (1.8.0)\n",
            "Downloading solara-1.44.1-py2.py3-none-any.whl (5.9 kB)\n",
            "Downloading solara_server-1.44.1-py2.py3-none-any.whl (3.9 kB)\n",
            "Downloading solara_ui-1.44.1-py2.py3-none-any.whl (1.3 MB)\n",
            "\u001b[2K   \u001b[90m━━━━━━━━━━━━━━━━━━━━━━━━━━━━━━━━━━━━━━━━\u001b[0m \u001b[32m1.3/1.3 MB\u001b[0m \u001b[31m16.7 MB/s\u001b[0m eta \u001b[36m0:00:00\u001b[0m\n",
            "\u001b[?25hDownloading ipyvue-1.11.2-py2.py3-none-any.whl (2.7 MB)\n",
            "\u001b[2K   \u001b[90m━━━━━━━━━━━━━━━━━━━━━━━━━━━━━━━━━━━━━━━━\u001b[0m \u001b[32m2.7/2.7 MB\u001b[0m \u001b[31m33.7 MB/s\u001b[0m eta \u001b[36m0:00:00\u001b[0m\n",
            "\u001b[?25hDownloading ipyvuetify-1.11.0-py2.py3-none-any.whl (7.7 MB)\n",
            "\u001b[2K   \u001b[90m━━━━━━━━━━━━━━━━━━━━━━━━━━━━━━━━━━━━━━━━\u001b[0m \u001b[32m7.7/7.7 MB\u001b[0m \u001b[31m19.4 MB/s\u001b[0m eta \u001b[36m0:00:00\u001b[0m\n",
            "\u001b[?25hDownloading reacton-1.9.1-py2.py3-none-any.whl (108 kB)\n",
            "\u001b[2K   \u001b[90m━━━━━━━━━━━━━━━━━━━━━━━━━━━━━━━━━━━━━━━━\u001b[0m \u001b[32m108.8/108.8 kB\u001b[0m \u001b[31m7.7 MB/s\u001b[0m eta \u001b[36m0:00:00\u001b[0m\n",
            "\u001b[?25hDownloading pymdown_extensions-10.14.3-py3-none-any.whl (264 kB)\n",
            "\u001b[2K   \u001b[90m━━━━━━━━━━━━━━━━━━━━━━━━━━━━━━━━━━━━━━━━\u001b[0m \u001b[32m264.5/264.5 kB\u001b[0m \u001b[31m12.1 MB/s\u001b[0m eta \u001b[36m0:00:00\u001b[0m\n",
            "\u001b[?25hDownloading rich_click-1.8.6-py3-none-any.whl (35 kB)\n",
            "Downloading starlette-0.46.0-py3-none-any.whl (71 kB)\n",
            "\u001b[2K   \u001b[90m━━━━━━━━━━━━━━━━━━━━━━━━━━━━━━━━━━━━━━━━\u001b[0m \u001b[32m72.0/72.0 kB\u001b[0m \u001b[31m3.2 MB/s\u001b[0m eta \u001b[36m0:00:00\u001b[0m\n",
            "\u001b[?25hDownloading uvicorn-0.34.0-py3-none-any.whl (62 kB)\n",
            "\u001b[2K   \u001b[90m━━━━━━━━━━━━━━━━━━━━━━━━━━━━━━━━━━━━━━━━\u001b[0m \u001b[32m62.3/62.3 kB\u001b[0m \u001b[31m2.8 MB/s\u001b[0m eta \u001b[36m0:00:00\u001b[0m\n",
            "\u001b[?25hDownloading watchdog-6.0.0-py3-none-manylinux2014_x86_64.whl (79 kB)\n",
            "\u001b[2K   \u001b[90m━━━━━━━━━━━━━━━━━━━━━━━━━━━━━━━━━━━━━━━━\u001b[0m \u001b[32m79.1/79.1 kB\u001b[0m \u001b[31m4.4 MB/s\u001b[0m eta \u001b[36m0:00:00\u001b[0m\n",
            "\u001b[?25hDownloading watchfiles-1.0.4-cp311-cp311-manylinux_2_17_x86_64.manylinux2014_x86_64.whl (452 kB)\n",
            "\u001b[2K   \u001b[90m━━━━━━━━━━━━━━━━━━━━━━━━━━━━━━━━━━━━━━━━\u001b[0m \u001b[32m452.6/452.6 kB\u001b[0m \u001b[31m18.8 MB/s\u001b[0m eta \u001b[36m0:00:00\u001b[0m\n",
            "\u001b[?25hDownloading jedi-0.19.2-py2.py3-none-any.whl (1.6 MB)\n",
            "\u001b[2K   \u001b[90m━━━━━━━━━━━━━━━━━━━━━━━━━━━━━━━━━━━━━━━━\u001b[0m \u001b[32m1.6/1.6 MB\u001b[0m \u001b[31m39.9 MB/s\u001b[0m eta \u001b[36m0:00:00\u001b[0m\n",
            "\u001b[?25hInstalling collected packages: watchdog, uvicorn, pymdown-extensions, jedi, watchfiles, starlette, rich-click, reacton, ipyvue, ipyvuetify, solara-ui, solara-server, solara\n",
            "Successfully installed ipyvue-1.11.2 ipyvuetify-1.11.0 jedi-0.19.2 pymdown-extensions-10.14.3 reacton-1.9.1 rich-click-1.8.6 solara-1.44.1 solara-server-1.44.1 solara-ui-1.44.1 starlette-0.46.0 uvicorn-0.34.0 watchdog-6.0.0 watchfiles-1.0.4\n"
          ]
        }
      ]
    },
    {
      "cell_type": "code",
      "execution_count": 4,
      "metadata": {
        "id": "Pdkme0MpRlHk",
        "outputId": "994c4c6e-a0b0-4c20-93bb-ffcc3084194e",
        "colab": {
          "base_uri": "https://localhost:8080/",
          "height": 367
        }
      },
      "outputs": [
        {
          "output_type": "stream",
          "name": "stdout",
          "text": [
            "Mesa version: 3.1.4\n"
          ]
        },
        {
          "output_type": "error",
          "ename": "ModuleNotFoundError",
          "evalue": "No module named 'MoneyModel'",
          "traceback": [
            "\u001b[0;31m---------------------------------------------------------------------------\u001b[0m",
            "\u001b[0;31mModuleNotFoundError\u001b[0m                       Traceback (most recent call last)",
            "\u001b[0;32m<ipython-input-4-1045214ddf18>\u001b[0m in \u001b[0;36m<cell line: 0>\u001b[0;34m()\u001b[0m\n\u001b[1;32m      5\u001b[0m \u001b[0;34m\u001b[0m\u001b[0m\n\u001b[1;32m      6\u001b[0m \u001b[0;31m# Import the local MoneyModel.py\u001b[0m\u001b[0;34m\u001b[0m\u001b[0;34m\u001b[0m\u001b[0m\n\u001b[0;32m----> 7\u001b[0;31m \u001b[0;32mfrom\u001b[0m \u001b[0mMoneyModel\u001b[0m \u001b[0;32mimport\u001b[0m \u001b[0mMoneyModel\u001b[0m\u001b[0;34m\u001b[0m\u001b[0;34m\u001b[0m\u001b[0m\n\u001b[0m",
            "\u001b[0;31mModuleNotFoundError\u001b[0m: No module named 'MoneyModel'",
            "",
            "\u001b[0;31m---------------------------------------------------------------------------\u001b[0;32m\nNOTE: If your import is failing due to a missing package, you can\nmanually install dependencies using either !pip or !apt.\n\nTo view examples of installing some common dependencies, click the\n\"Open Examples\" button below.\n\u001b[0;31m---------------------------------------------------------------------------\u001b[0m\n"
          ],
          "errorDetails": {
            "actions": [
              {
                "action": "open_url",
                "actionText": "Open Examples",
                "url": "/notebooks/snippets/importing_libraries.ipynb"
              }
            ]
          }
        }
      ],
      "source": [
        "import mesa\n",
        "print(f\"Mesa version: {mesa.__version__}\")\n",
        "\n",
        "from mesa.visualization import SolaraViz, make_plot_component, make_space_component\n",
        "\n",
        "# Import the local MoneyModel.py\n",
        "from MoneyModel import MoneyModel\n"
      ]
    },
    {
      "cell_type": "code",
      "execution_count": null,
      "metadata": {
        "id": "S2xOR9O3RlHl"
      },
      "outputs": [],
      "source": [
        "def agent_portrayal(agent):\n",
        "    return {\n",
        "        \"color\": \"tab:blue\",\n",
        "        \"size\": 50,\n",
        "    }"
      ]
    },
    {
      "cell_type": "markdown",
      "metadata": {
        "id": "opDe3ET8RlHm"
      },
      "source": [
        "In addition to the portrayal method, we instantiate the model parameters, some of which are modifiable by user inputs. In this case, the number of agents, N, is specified as a slider of integers."
      ]
    },
    {
      "cell_type": "code",
      "execution_count": null,
      "metadata": {
        "id": "slchCAeKRlHm"
      },
      "outputs": [],
      "source": [
        "model_params = {\n",
        "    \"n\": {\n",
        "        \"type\": \"SliderInt\",\n",
        "        \"value\": 50,\n",
        "        \"label\": \"Number of agents:\",\n",
        "        \"min\": 10,\n",
        "        \"max\": 100,\n",
        "        \"step\": 1,\n",
        "    },\n",
        "    \"width\": 10,\n",
        "    \"height\": 10,\n",
        "}"
      ]
    },
    {
      "cell_type": "markdown",
      "metadata": {
        "id": "OxvopyTWRlHn"
      },
      "source": [
        "Next, we instantiate the visualization object which (by default) displays the grid containing the agents, and timeseries of values computed by the model's data collector. In this example, we specify the Gini coefficient.\n",
        "\n",
        "There are 3 buttons:\n",
        "- the step button, which advances the model by 1 step\n",
        "- the play button, which advances the model indefinitely until it is paused, or until `model.running` is False (you may specify the stopping condition)\n",
        "- the pause button, which pauses the model\n",
        "\n",
        "To reset the model, simply change the model parameter from the user input (e.g. the \"Number of agents\" slider)."
      ]
    },
    {
      "cell_type": "code",
      "execution_count": null,
      "metadata": {
        "id": "8dkTRrvURlHn"
      },
      "outputs": [],
      "source": [
        "# Create initial model instance\n",
        "money_model = MoneyModel(n=50, width=10, height=10) #keyword arguments\n",
        "\n",
        "SpaceGraph = make_space_component(agent_portrayal)\n",
        "GiniPlot = make_plot_component(\"Gini\")\n",
        "\n",
        "page = SolaraViz(\n",
        "    money_model,\n",
        "    components=[SpaceGraph, GiniPlot],\n",
        "    model_params=model_params,\n",
        "    name=\"Boltzmann Wealth Model\",\n",
        ")\n",
        "# This is required to render the visualization in the Jupyter notebook\n",
        "page"
      ]
    },
    {
      "cell_type": "markdown",
      "metadata": {
        "id": "cAPocGVzRlHn"
      },
      "source": [
        "## Part 2 - Dynamic Agent Representation\n",
        "\n",
        "Due to the computational cost of running multiple dashboards it is recommended that at the end of each part you restart your kernel and then only run the import cell and the cells in that portion of the part of the tutorial (e.g. Part 2)\n",
        "\n",
        "\n",
        "In the visualization above, all we could see is the agents moving around -- but not how much money they had, or anything else of interest. Let's change it so that agents who are broke (wealth 0) are drawn in red, smaller. (TODO: Currently, we can't predict the drawing order of the circles, so a broke agent may be overshadowed by a wealthy agent. We should fix this by doing a hollow circle instead)\n",
        "In addition to size and color, an agent's shape can also be customized when using the default drawer. The allowed values for shapes can be found [here](https://matplotlib.org/stable/api/markers_api.html).\n",
        "\n",
        "To do this, we go back to our `agent_portrayal` code and add some code to change the portrayal based on the agent properties and launch the server again."
      ]
    },
    {
      "cell_type": "code",
      "execution_count": null,
      "metadata": {
        "id": "qrg-bSlmRlHn"
      },
      "outputs": [],
      "source": [
        "import mesa\n",
        "print(f\"Mesa version: {mesa.__version__}\")\n",
        "\n",
        "from mesa.visualization import SolaraViz, make_plot_component, make_space_component\n",
        "# Import the local MoneyModel.py\n",
        "from MoneyModel import MoneyModel\n"
      ]
    },
    {
      "cell_type": "code",
      "execution_count": null,
      "metadata": {
        "id": "sFP9T68BRlHo"
      },
      "outputs": [],
      "source": [
        "def agent_portrayal(agent):\n",
        "    size = 10\n",
        "    color = \"tab:red\"\n",
        "    if agent.wealth > 0:\n",
        "        size = 50\n",
        "        color = \"tab:blue\"\n",
        "    return {\"size\": size, \"color\": color}\n",
        "\n",
        "model_params = {\n",
        "    \"n\": {\n",
        "        \"type\": \"SliderInt\",\n",
        "        \"value\": 50,\n",
        "        \"label\": \"Number of agents:\",\n",
        "        \"min\": 10,\n",
        "        \"max\": 100,\n",
        "        \"step\": 1,\n",
        "    },\n",
        "    \"width\": 10,\n",
        "    \"height\": 10,\n",
        "}"
      ]
    },
    {
      "cell_type": "code",
      "execution_count": null,
      "metadata": {
        "id": "T541jd_QRlHo"
      },
      "outputs": [],
      "source": [
        "# Create initial model instance\n",
        "money_model = MoneyModel(n=50, width=10, height=10)\n",
        "\n",
        "SpaceGraph = make_space_component(agent_portrayal)\n",
        "GiniPlot = make_plot_component(\"Gini\")\n",
        "\n",
        "page = SolaraViz(\n",
        "    money_model,\n",
        "    components=[SpaceGraph, GiniPlot],\n",
        "    model_params=model_params,\n",
        "    name=\"Boltzmann Wealth Model\",\n",
        ")\n",
        "# This is required to render the visualization in the Jupyter notebook\n",
        "page"
      ]
    },
    {
      "cell_type": "markdown",
      "metadata": {
        "id": "xZVOi4pMRlHo"
      },
      "source": [
        "## Part 3 - Custom Components\n",
        "\n",
        "Due to the computational cost of running multiple dashboards it is recommended that at the end of each part you restart your kernel and then only run the import cell and the cells in that portion of the part of the tutorial (e.g. Part 3)\n",
        "\n",
        "**Note:** This section is for users who have a basic familiarity with Python's Matplotlib plotting library.\n",
        "\n",
        "If the visualization elements provided by Mesa aren't enough for you, you can build your own and plug them into the model server.\n",
        "\n",
        "For this example, let's build a simple histogram visualization, which can count the number of agents with each value of wealth.\n",
        "\n",
        "**Note:** Due to the way solara works we need to trigger an update whenever the underlying model changes. For this you need to register an update counter with every component."
      ]
    },
    {
      "cell_type": "code",
      "execution_count": null,
      "metadata": {
        "id": "YOQy9T7jRlHo"
      },
      "outputs": [],
      "source": [
        "import mesa\n",
        "print(f\"Mesa version: {mesa.__version__}\")\n",
        "import solara\n",
        "from matplotlib.figure import Figure\n",
        "\n",
        "from mesa.visualization.utils import update_counter\n",
        "from mesa.visualization import SolaraViz, make_plot_component, make_space_component\n",
        "# Import the local MoneyModel.py\n",
        "from MoneyModel import MoneyModel\n"
      ]
    },
    {
      "cell_type": "code",
      "execution_count": null,
      "metadata": {
        "id": "pKtSBVeGRlHo"
      },
      "outputs": [],
      "source": [
        "def agent_portrayal(agent):\n",
        "    size = 10\n",
        "    color = \"tab:red\"\n",
        "    if agent.wealth > 0:\n",
        "        size = 50\n",
        "        color = \"tab:blue\"\n",
        "    return {\"size\": size, \"color\": color}\n",
        "\n",
        "model_params = {\n",
        "    \"n\": {\n",
        "        \"type\": \"SliderInt\",\n",
        "        \"value\": 50,\n",
        "        \"label\": \"Number of agents:\",\n",
        "        \"min\": 10,\n",
        "        \"max\": 100,\n",
        "        \"step\": 1,\n",
        "    },\n",
        "    \"width\": 10,\n",
        "    \"height\": 10,\n",
        "}"
      ]
    },
    {
      "cell_type": "markdown",
      "metadata": {
        "id": "ZpcPMyHvRlHo"
      },
      "source": [
        "Next, we update our solara frontend to use this new component"
      ]
    },
    {
      "cell_type": "code",
      "execution_count": null,
      "metadata": {
        "id": "Fn2-rz8dRlHo"
      },
      "outputs": [],
      "source": [
        "@solara.component\n",
        "def Histogram(model):\n",
        "    update_counter.get() # This is required to update the counter\n",
        "    # Note: you must initialize a figure using this method instead of\n",
        "    # plt.figure(), for thread safety purpose\n",
        "    fig = Figure()\n",
        "    ax = fig.subplots()\n",
        "    wealth_vals = [agent.wealth for agent in model.agents]\n",
        "    # Note: you have to use Matplotlib's OOP API instead of plt.hist\n",
        "    # because plt.hist is not thread-safe.\n",
        "    ax.hist(wealth_vals, bins=10)\n",
        "    solara.FigureMatplotlib(fig)"
      ]
    },
    {
      "cell_type": "code",
      "execution_count": null,
      "metadata": {
        "id": "tMdp2HbmRlHo"
      },
      "outputs": [],
      "source": [
        "# Create initial model instance\n",
        "money_model = MoneyModel(n=50, width=10, height=10)\n",
        "\n",
        "SpaceGraph = make_space_component(agent_portrayal)\n",
        "GiniPlot = make_plot_component(\"Gini\")"
      ]
    },
    {
      "cell_type": "code",
      "execution_count": null,
      "metadata": {
        "ExecuteTime": {
          "end_time": "2024-10-29T19:38:49.471838Z",
          "start_time": "2024-10-29T19:38:47.897295Z"
        },
        "id": "GGL4I0sFRlHo",
        "outputId": "74f14943-b0b6-45e7-bcc4-68d2f1a2f3a5",
        "colab": {
          "referenced_widgets": [
            "bc71b89ee5684038a194eee4c36f4a4c"
          ]
        }
      },
      "outputs": [
        {
          "data": {
            "application/vnd.jupyter.widget-view+json": {
              "model_id": "bc71b89ee5684038a194eee4c36f4a4c",
              "version_major": 2,
              "version_minor": 0
            },
            "text/html": [
              "Cannot show widget. You probably want to rerun the code cell above (<i>Click in the code cell, and press Shift+Enter <kbd>⇧</kbd>+<kbd>↩</kbd></i>)."
            ],
            "text/plain": [
              "Cannot show ipywidgets in text"
            ]
          },
          "metadata": {},
          "output_type": "display_data"
        }
      ],
      "source": [
        "page = SolaraViz(\n",
        "    money_model,\n",
        "    components=[SpaceGraph, GiniPlot, Histogram],\n",
        "    model_params=model_params,\n",
        "    name=\"Boltzmann Wealth Model\",\n",
        ")\n",
        "# This is required to render the visualization in the Jupyter notebook\n",
        "page"
      ]
    },
    {
      "cell_type": "markdown",
      "metadata": {
        "id": "ILpV3Dd0RlHp"
      },
      "source": [
        "You can even run the visuals independently by calling it with the model instance"
      ]
    },
    {
      "cell_type": "code",
      "execution_count": null,
      "metadata": {
        "ExecuteTime": {
          "end_time": "2024-10-29T19:38:49.505725Z",
          "start_time": "2024-10-29T19:38:49.472599Z"
        },
        "id": "yMdYcByyRlHp",
        "outputId": "5a86408c-26a5-4431-9907-32086f124b4b",
        "colab": {
          "referenced_widgets": [
            "0491f167a1434a92b78535078bd082a8"
          ]
        }
      },
      "outputs": [
        {
          "data": {
            "application/vnd.jupyter.widget-view+json": {
              "model_id": "0491f167a1434a92b78535078bd082a8",
              "version_major": 2,
              "version_minor": 0
            },
            "text/html": [
              "Cannot show widget. You probably want to rerun the code cell above (<i>Click in the code cell, and press Shift+Enter <kbd>⇧</kbd>+<kbd>↩</kbd></i>)."
            ],
            "text/plain": [
              "Cannot show ipywidgets in text"
            ]
          },
          "metadata": {},
          "output_type": "display_data"
        }
      ],
      "source": [
        "Histogram(money_model)"
      ]
    },
    {
      "cell_type": "markdown",
      "metadata": {
        "id": "uQhhgPqwRlHp"
      },
      "source": [
        "### Happy Modeling!\n",
        "\n",
        "This document is a work in progress.  If you see any errors, exclusions or have any problems please contact [us](https://github.com/projectmesa/mesa/issues)."
      ]
    }
  ],
  "metadata": {
    "kernelspec": {
      "display_name": "Python 3 (ipykernel)",
      "language": "python",
      "name": "python3"
    },
    "language_info": {
      "codemirror_mode": {
        "name": "ipython",
        "version": 3
      },
      "file_extension": ".py",
      "mimetype": "text/x-python",
      "name": "python",
      "nbconvert_exporter": "python",
      "pygments_lexer": "ipython3",
      "version": "3.12.5"
    },
    "nbsphinx": {
      "execute": "never"
    },
    "colab": {
      "provenance": []
    },
    "widgets": {
      "application/vnd.jupyter.widget-state+json": {}
    }
  },
  "nbformat": 4,
  "nbformat_minor": 0
}